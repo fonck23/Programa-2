{
  "nbformat": 4,
  "nbformat_minor": 0,
  "metadata": {
    "colab": {
      "provenance": []
    },
    "kernelspec": {
      "name": "python3",
      "display_name": "Python 3"
    },
    "language_info": {
      "name": "python"
    }
  },
  "cells": [
    {
      "cell_type": "code",
      "execution_count": 4,
      "metadata": {
        "colab": {
          "base_uri": "https://localhost:8080/"
        },
        "id": "7WMmHYL3DMlQ",
        "outputId": "cff87b2d-ed68-4e3c-8a4b-b409c590469e"
      },
      "outputs": [
        {
          "output_type": "stream",
          "name": "stdout",
          "text": [
            "Dime el nombre isaac\n",
            "Dime el sueldo 1000\n",
            "Dime el nombre Ashley\n",
            "Dime el sueldo 100\n",
            "Dime el nombre Paulina\n",
            "Dime el sueldo 100\n",
            "Dime el nombre Raul\n",
            "Dime el sueldo 100\n",
            "Dime el nombre Mei\n",
            "Dime el sueldo 100\n",
            "La nomina total es: 1400.0\n",
            "El trabajador con más sueldo es:  \n"
          ]
        }
      ],
      "source": [
        "n= []\n",
        "s = []\n",
        "def leer(n,s):\n",
        "    for i in range(5):\n",
        "        n.append(input(\"Dime el nombre \"))\n",
        "        s.append(float(input(\"Dime el sueldo \")))\n",
        "\n",
        "def nm(n, s):\n",
        "    nombre_sm=[0]\n",
        "    nombre_sm= \"\"\n",
        "    ms = s[0]\n",
        "    for i in  range (len(s)):\n",
        "        if (s[i] > ms):\n",
        "            nombre_sm = n[i]\n",
        "    return nombre_sm\n",
        "def nt(n,s):\n",
        "    total = 0\n",
        "    for i in s:\n",
        "        total = total + i\n",
        "    print(\"La nomina total es:\", total)\n",
        "    print(\"El trabajador con más sueldo es: \",nm(n,s))\n",
        "leer(n,s)\n",
        "nt(n,s)"
      ]
    }
  ]
}