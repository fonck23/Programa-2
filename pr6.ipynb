{
  "nbformat": 4,
  "nbformat_minor": 0,
  "metadata": {
    "colab": {
      "provenance": []
    },
    "kernelspec": {
      "name": "python3",
      "display_name": "Python 3"
    },
    "language_info": {
      "name": "python"
    }
  },
  "cells": [
    {
      "cell_type": "code",
      "source": [
        "#Instrucciones\n",
        "#Elabora un programa según el siguiente planteamiento:\n",
        "#En la estación metereología de la ciudad de Tepic Nayarit, almacenaron en una lista las temperaturas del día de hoy.\n",
        "#temp= [80, 72, 95, 82, 79, 72, 85\n",
        "#El administrador se dio cuenta que las temperaturas estaban en grados Fahrenheit, elabore un programa en Python que\n",
        "#convierta las temperaturas de la lista de grados FAHRENHEIT A CENTIGRADOS.\n",
        "\n",
        "temp= [80, 72, 95, 82, 79, 72, 85]\n",
        "\n",
        "def convertir (temp):\n",
        "  temp_c=[]\n",
        "  for t in temp:\n",
        "    c=(t-32)/1.8\n",
        "    temp_c.append(c)\n",
        "  return temp_c\n",
        "\n",
        "temp_c=convertir(temp)\n",
        "print(temp_c)\n"
      ],
      "metadata": {
        "colab": {
          "base_uri": "https://localhost:8080/"
        },
        "id": "TKaE7eBrSlE1",
        "outputId": "882d0a53-f1c3-4243-960a-412a957a27f4"
      },
      "execution_count": 5,
      "outputs": [
        {
          "output_type": "stream",
          "name": "stdout",
          "text": [
            "[26.666666666666664, 22.22222222222222, 35.0, 27.77777777777778, 26.11111111111111, 22.22222222222222, 29.444444444444443]\n"
          ]
        }
      ]
    }
  ]
}