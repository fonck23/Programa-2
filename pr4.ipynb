{
  "nbformat": 4,
  "nbformat_minor": 0,
  "metadata": {
    "colab": {
      "provenance": []
    },
    "kernelspec": {
      "name": "python3",
      "display_name": "Python 3"
    },
    "language_info": {
      "name": "python"
    }
  },
  "cells": [
    {
      "cell_type": "code",
      "execution_count": 15,
      "metadata": {
        "colab": {
          "base_uri": "https://localhost:8080/"
        },
        "id": "KF-MfZsnagIO",
        "outputId": "9582960a-de24-49f2-94d8-3b57f21163bd"
      },
      "outputs": [
        {
          "output_type": "stream",
          "name": "stdout",
          "text": [
            "Dime tu edad18\n",
            "Dime tu edad18\n",
            "Dime tu edad10\n",
            "Dime tu edad10\n",
            "Dime tu edad10\n",
            "Dime tu edad10\n",
            "Dime tu edad10\n",
            "Dime tu edad10\n",
            "Dime tu edad10\n",
            "Dime tu edad10\n",
            "Las personas que son mayores de edad son:  2\n",
            "Las personas que son menores son:  8\n"
          ]
        }
      ],
      "source": [
        "#Elabore un programa que:\n",
        "#Lea en un arreglo las edades de 10 personas (usar una función para leer los datos).\n",
        "#Elabore una función que cuente cuantas personas son mayores de edad y cuantas menores de edad.\n",
        "#Imprima en otra funcion cuantos son mayores de edad y cuantos menores de edad.\n",
        "#El programa debe tener 3 funciones: UNA PARA LEER LOS DATOS, LA SEGUNDA PARA OBTENER LOS MAYORES Y MENORES DE EDAD Y LA TERCERA PARA IMPRIMIR EL RESULTADO.\n",
        "e=[]\n",
        "em=[]\n",
        "eme=[]\n",
        "\n",
        "def leer (e):\n",
        "  for i in range(10):\n",
        "    e.append(int(input(\"Dime tu edad\")))\n",
        "\n",
        "def edades (e,em,eme):\n",
        "  for i in  range (len(e)):\n",
        "    if (e[i]>=18):\n",
        "      em.append(e[i])\n",
        "    else:\n",
        "      eme.append(e[i])\n",
        "\n",
        "def resultado (em,eme):\n",
        "  print(\"Las personas que son mayores de edad son: \",len(em))\n",
        "  print(\"Las personas que son menores son: \",len(eme))\n",
        "\n",
        "leer(e)\n",
        "edades(e,em,eme)\n",
        "resultado(em,eme)\n",
        "\n",
        "\n",
        "\n"
      ]
    }
  ]
}