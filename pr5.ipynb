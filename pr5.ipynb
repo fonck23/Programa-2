{
  "nbformat": 4,
  "nbformat_minor": 0,
  "metadata": {
    "colab": {
      "provenance": []
    },
    "kernelspec": {
      "name": "python3",
      "display_name": "Python 3"
    },
    "language_info": {
      "name": "python"
    }
  },
  "cells": [
    {
      "cell_type": "code",
      "execution_count": 4,
      "metadata": {
        "colab": {
          "base_uri": "https://localhost:8080/"
        },
        "id": "yBMRGliqh7T7",
        "outputId": "f972277a-fdf5-4e41-ea6d-29f95c17f1f8"
      },
      "outputs": [
        {
          "output_type": "stream",
          "name": "stdout",
          "text": [
            "Nombre Ashley Fonseca\n",
            "Matricula 241690300-6\n",
            "Edad 28\n",
            "Peso 47\n",
            "Telefono 3112675756\n",
            "Domicilio  Col. twice calle hirai momo #28\n",
            "Carrera CDIA\n",
            "Grupo favorito Twice y Enhypen\n",
            "Fruta fav Uvas y mangos\n"
          ]
        }
      ],
      "source": [
        "#Para modificar los elementos del diccionario debe ejecutar el sig. codigo:\n",
        "#d1['Nombre'] = \"Ash\"\n",
        "#y agrgar el nombre que desee, asi con los demas campos, cambia el nombre del campo dentro de las comillas simples y despues agrgar lo que quiera modificar\n",
        "#print(d1) por ultimo agregar el print\n",
        "\n",
        "d1 = {\n",
        "  \"Nombre\": \"Ashley Fonseca\",\n",
        "  \"Matricula\": \"241690300-6\",\n",
        "  \"Edad\":28,\n",
        "  \"Peso\":47 ,\n",
        "  \"Telefono\": 3112675756,\n",
        "  \"Domicilio\": \" Col. twice calle hirai momo #28\",\n",
        "  \"Carrera\": \"CDIA\",\n",
        "  \"Grupo favorito\": \"Twice y Enhypen\",\n",
        "  \"Fruta fav\": \"Uvas y mangos\"\n",
        "}\n",
        "for x, y in d1.items():\n",
        "    print(x, y)\n",
        "\n",
        "#Para acceder a sus elementos con [] o también con la función get(), de la sig. manera (este codigo imprime lo que hay dentro de ese campo, puede modificar el campo dependiendo de lo que quiera ver):\n",
        "#print(d1['Nombre'])\n",
        "# Ó\n",
        "#print(d1.get('Nombre'))\n",
        "\n",
        "\n",
        "\n",
        "\n",
        "#Iterar diccionario\n",
        "#Para itearar es como en las listas, se usa un ciclo for.\n",
        "#  Para imprimir solo las keys (o los \"campos\"):\n",
        "#for x in d1:\n",
        "#    print(x)\n",
        "\n",
        "# Impre los value del diccionario (o el \"contenido\")\n",
        "#for x in d1:\n",
        "#    print(d1[x])\n",
        "\n",
        "#   O si queremos imprimir el key y el value a la vez (todo el contenido del diccionario).\n",
        "#for x, y in d1.items():\n",
        "#    print(x, y)"
      ]
    }
  ]
}