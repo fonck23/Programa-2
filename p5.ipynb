{
  "nbformat": 4,
  "nbformat_minor": 0,
  "metadata": {
    "colab": {
      "provenance": []
    },
    "kernelspec": {
      "name": "python3",
      "display_name": "Python 3"
    },
    "language_info": {
      "name": "python"
    }
  },
  "cells": [
    {
      "cell_type": "code",
      "execution_count": 9,
      "metadata": {
        "colab": {
          "base_uri": "https://localhost:8080/"
        },
        "id": "yBMRGliqh7T7",
        "outputId": "31505282-03ee-4825-c456-27dd40c50c51"
      },
      "outputs": [
        {
          "output_type": "stream",
          "name": "stdout",
          "text": [
            "{'Nombre': 'Ashley Fonseca', 'Matricula': '241690300-6', 'Edad': 28, 'Peso': 47, 'Telefono': 3112675756, 'Domicilio': ' Col. twice calle hirai momo #28', 'Carrera': 'CDIA', 'Grupo favorito': 'Twice y Enhypen', 'Fruta fav': 'Uvas y mangos'}\n",
            "Nombre Momo\n",
            "Matricula 241690300-6\n",
            "Edad 28\n",
            "Peso 47\n",
            "Telefono 3112675756\n",
            "Domicilio  Col. twice calle hirai momo #28\n",
            "Carrera CDIA\n",
            "Grupo favorito Twice y Enhypen\n",
            "Fruta fav Uvas y mangos\n"
          ]
        }
      ],
      "source": [
        "#Para modificar los elementos del diccionario debe ejecutar el sig. codigo:\n",
        "#d1['Nombre'] = \"Ash\"\n",
        "#y agrgar el nombre que desee, asi con los demas campos, cambia el nombre del campo dentro de las comillas simples y despues agrgar lo que quiera modificar\n",
        "#print(d1) por ultimo agregar el print\n",
        "\n",
        "d1 = {\n",
        "  \"Nombre\": \"Ashley Fonseca\",\n",
        "  \"Matricula\": \"241690300-6\",\n",
        "  \"Edad\":28,\n",
        "  \"Peso\":47 ,\n",
        "  \"Telefono\": 3112675756,\n",
        "  \"Domicilio\": \" Col. twice calle hirai momo #28\",\n",
        "  \"Carrera\": \"CDIA\",\n",
        "  \"Grupo favorito\": \"Twice y Enhypen\",\n",
        "  \"Fruta fav\": \"Uvas y mangos\"\n",
        "}\n",
        "print(d1)\n",
        "d1['Nombre'] = \"Momo\"\n",
        "\n",
        "for x, y in d1.items():\n",
        "    print(x, y)\n",
        "\n",
        "#Para acceder a sus elementos con [] o también con la función get(), de la sig. manera (este codigo imprime lo que hay dentro de ese campo, puede modificar el campo dependiendo de lo que quiera ver):\n",
        "#print(d1['Nombre'])\n",
        "\n",
        "\n",
        "\n",
        "\n",
        "#Iterar diccionario\n",
        "#  imprimir el key y el value a la vez (todo el contenido del diccionario).\n",
        "#for x, y in d1.items():\n",
        "#    print(x, y)"
      ]
    }
  ]
}